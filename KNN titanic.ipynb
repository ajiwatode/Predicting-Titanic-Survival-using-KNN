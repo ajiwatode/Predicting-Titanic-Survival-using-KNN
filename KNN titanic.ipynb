{
 "cells": [
  {
   "cell_type": "markdown",
   "id": "ef133a77-7d43-4730-a219-a84df96e08f7",
   "metadata": {},
   "source": [
    "# Objective : Based Titanic Dataset we have to build a model which will predict survival of passenger"
   ]
  },
  {
   "cell_type": "code",
   "execution_count": 50,
   "id": "7f51f12c-38e2-4a62-8915-160628e01627",
   "metadata": {},
   "outputs": [],
   "source": [
    "# Import data\n",
    "import pandas  as pd\n",
    "import numpy as np\n",
    "import seaborn as sns\n",
    "import matplotlib.pyplot as plt \n",
    "from sklearn.linear_model import LogisticRegression\n",
    "from sklearn.metrics import confusion_matrix, accuracy_score, classification_report\n",
    "from sklearn.neighbors import KNeighborsClassifier"
   ]
  },
  {
   "cell_type": "code",
   "execution_count": 10,
   "id": "e53d9a32-2a0c-48f6-8d51-a47b6f6c7e10",
   "metadata": {},
   "outputs": [],
   "source": [
    "# 1. Fucntion to create piechart \n",
    "\n",
    "def create_piechart(data, column):\n",
    "    \"\"\"\n",
    "    Objective\n",
    "    ---------- \n",
    "    Create Pichart for Categorical varaibles present in Pandas Dataframe\n",
    "    \n",
    "    parameters\n",
    "    ----------\n",
    "    data: this is pandas dataframe\n",
    "    column: this is column name which is used to create plot\n",
    "        \n",
    "    returns\n",
    "    ----------\n",
    "    this will show piechart\n",
    "    \n",
    "    \"\"\"\n",
    "    labels = list(data[column].value_counts().to_dict().keys())\n",
    "    sizes = list(data[column].value_counts().to_dict().values())\n",
    "   \n",
    "    plt.pie(sizes, \n",
    "            labels=labels, \n",
    "            autopct='%1.2f%%',\n",
    "            shadow=False, \n",
    "            startangle=45)\n",
    "    \n",
    "    plt.axis('equal')  \n",
    "    plt.title(\"Piechart - {}\".format(column))\n",
    "    plt.show()\n",
    "    \n",
    "# 1. Fucntion to check missing data \n",
    "    \n",
    "def missing_data(df):\n",
    "    \"\"\"\n",
    "    Objective\n",
    "    ----------\n",
    "    it shows the missing data in each column with \n",
    "    total missing values, percentage of missing value and\n",
    "    its data type in descending order.\n",
    "    \n",
    "    parameters\n",
    "    ----------\n",
    "    df: pandas dataframe\n",
    "        input data frame \n",
    "    \n",
    "    returns\n",
    "    ----------\n",
    "    missing_data: output data frame(pandas dataframe)\n",
    "    \n",
    "    \"\"\"\n",
    "    \n",
    "    total = df.isnull().sum().sort_values(ascending=False)\n",
    "    \n",
    "    percent = round((df.isnull().sum()/df.isnull().count()  * 100).sort_values(ascending=False),2)\n",
    "    \n",
    "    data_type = df.dtypes\n",
    "    missing_data = pd.concat([total,percent,data_type],\n",
    "                             axis=1,\n",
    "                             keys=['Total','Percent','Data_Type']).sort_values(\"Total\", \n",
    "                                                                               axis = 0,\n",
    "                                                                               ascending = False)\n",
    "    \n",
    "    return missing_data\n"
   ]
  },
  {
   "cell_type": "markdown",
   "id": "0a88bebf-5a6e-49bf-bdd1-7d15505fac6f",
   "metadata": {},
   "source": [
    "## Load dataset"
   ]
  },
  {
   "cell_type": "code",
   "execution_count": 12,
   "id": "89501734-9c23-4ca4-a776-5e8284bba313",
   "metadata": {},
   "outputs": [
    {
     "name": "stdout",
     "output_type": "stream",
     "text": [
      "(891, 11)\n",
      "(21, 11)\n"
     ]
    }
   ],
   "source": [
    "#Read the training data and testing data\n",
    "train_df = pd.read_excel(r'C:\\Users\\AK\\Desktop\\file\\Titanic Train.xls', \n",
    "                         index_col=0, \n",
    "                         header=0)\n",
    "\n",
    "test_df = pd.read_excel(r'C:\\Users\\AK\\Desktop\\file\\Titanic Test.xls', \n",
    "                        index_col=0, \n",
    "                        header=0)\n",
    "\n",
    "print(train_df.shape)\n",
    "print(test_df.shape)"
   ]
  },
  {
   "cell_type": "code",
   "execution_count": 13,
   "id": "7f5f645d-48cb-431f-9bf7-28756244838c",
   "metadata": {},
   "outputs": [
    {
     "data": {
      "text/html": [
       "<div>\n",
       "<style scoped>\n",
       "    .dataframe tbody tr th:only-of-type {\n",
       "        vertical-align: middle;\n",
       "    }\n",
       "\n",
       "    .dataframe tbody tr th {\n",
       "        vertical-align: top;\n",
       "    }\n",
       "\n",
       "    .dataframe thead th {\n",
       "        text-align: right;\n",
       "    }\n",
       "</style>\n",
       "<table border=\"1\" class=\"dataframe\">\n",
       "  <thead>\n",
       "    <tr style=\"text-align: right;\">\n",
       "      <th></th>\n",
       "      <th>Survived</th>\n",
       "      <th>Pclass</th>\n",
       "      <th>Name</th>\n",
       "      <th>Sex</th>\n",
       "      <th>Age</th>\n",
       "      <th>SibSp</th>\n",
       "      <th>Parch</th>\n",
       "      <th>Ticket</th>\n",
       "      <th>Fare</th>\n",
       "      <th>Cabin</th>\n",
       "      <th>Embarked</th>\n",
       "    </tr>\n",
       "    <tr>\n",
       "      <th>PassengerId</th>\n",
       "      <th></th>\n",
       "      <th></th>\n",
       "      <th></th>\n",
       "      <th></th>\n",
       "      <th></th>\n",
       "      <th></th>\n",
       "      <th></th>\n",
       "      <th></th>\n",
       "      <th></th>\n",
       "      <th></th>\n",
       "      <th></th>\n",
       "    </tr>\n",
       "  </thead>\n",
       "  <tbody>\n",
       "    <tr>\n",
       "      <th>1</th>\n",
       "      <td>0</td>\n",
       "      <td>3</td>\n",
       "      <td>Braund, Mr. Owen Harris</td>\n",
       "      <td>male</td>\n",
       "      <td>22.0</td>\n",
       "      <td>1</td>\n",
       "      <td>0</td>\n",
       "      <td>A/5 21171</td>\n",
       "      <td>7.2500</td>\n",
       "      <td>NaN</td>\n",
       "      <td>S</td>\n",
       "    </tr>\n",
       "    <tr>\n",
       "      <th>2</th>\n",
       "      <td>1</td>\n",
       "      <td>1</td>\n",
       "      <td>Cumings, Mrs. John Bradley (Florence Briggs Th...</td>\n",
       "      <td>female</td>\n",
       "      <td>38.0</td>\n",
       "      <td>1</td>\n",
       "      <td>0</td>\n",
       "      <td>PC 17599</td>\n",
       "      <td>71.2833</td>\n",
       "      <td>C85</td>\n",
       "      <td>C</td>\n",
       "    </tr>\n",
       "    <tr>\n",
       "      <th>3</th>\n",
       "      <td>1</td>\n",
       "      <td>3</td>\n",
       "      <td>Heikkinen, Miss. Laina</td>\n",
       "      <td>female</td>\n",
       "      <td>26.0</td>\n",
       "      <td>0</td>\n",
       "      <td>0</td>\n",
       "      <td>STON/O2. 3101282</td>\n",
       "      <td>7.9250</td>\n",
       "      <td>NaN</td>\n",
       "      <td>S</td>\n",
       "    </tr>\n",
       "    <tr>\n",
       "      <th>4</th>\n",
       "      <td>1</td>\n",
       "      <td>1</td>\n",
       "      <td>Futrelle, Mrs. Jacques Heath (Lily May Peel)</td>\n",
       "      <td>female</td>\n",
       "      <td>35.0</td>\n",
       "      <td>1</td>\n",
       "      <td>0</td>\n",
       "      <td>113803</td>\n",
       "      <td>53.1000</td>\n",
       "      <td>C123</td>\n",
       "      <td>S</td>\n",
       "    </tr>\n",
       "    <tr>\n",
       "      <th>5</th>\n",
       "      <td>0</td>\n",
       "      <td>3</td>\n",
       "      <td>Allen, Mr. William Henry</td>\n",
       "      <td>male</td>\n",
       "      <td>35.0</td>\n",
       "      <td>0</td>\n",
       "      <td>0</td>\n",
       "      <td>373450</td>\n",
       "      <td>8.0500</td>\n",
       "      <td>NaN</td>\n",
       "      <td>S</td>\n",
       "    </tr>\n",
       "  </tbody>\n",
       "</table>\n",
       "</div>"
      ],
      "text/plain": [
       "             Survived  Pclass  \\\n",
       "PassengerId                     \n",
       "1                   0       3   \n",
       "2                   1       1   \n",
       "3                   1       3   \n",
       "4                   1       1   \n",
       "5                   0       3   \n",
       "\n",
       "                                                          Name     Sex   Age  \\\n",
       "PassengerId                                                                    \n",
       "1                                      Braund, Mr. Owen Harris    male  22.0   \n",
       "2            Cumings, Mrs. John Bradley (Florence Briggs Th...  female  38.0   \n",
       "3                                       Heikkinen, Miss. Laina  female  26.0   \n",
       "4                 Futrelle, Mrs. Jacques Heath (Lily May Peel)  female  35.0   \n",
       "5                                     Allen, Mr. William Henry    male  35.0   \n",
       "\n",
       "             SibSp  Parch            Ticket     Fare Cabin Embarked  \n",
       "PassengerId                                                          \n",
       "1                1      0         A/5 21171   7.2500   NaN        S  \n",
       "2                1      0          PC 17599  71.2833   C85        C  \n",
       "3                0      0  STON/O2. 3101282   7.9250   NaN        S  \n",
       "4                1      0            113803  53.1000  C123        S  \n",
       "5                0      0            373450   8.0500   NaN        S  "
      ]
     },
     "execution_count": 13,
     "metadata": {},
     "output_type": "execute_result"
    }
   ],
   "source": [
    "train_df.head()\n"
   ]
  },
  {
   "cell_type": "code",
   "execution_count": 14,
   "id": "fe3d6e30-0bd2-44c4-a364-bfb0f962ed1e",
   "metadata": {},
   "outputs": [
    {
     "data": {
      "text/plain": [
       "Index(['Survived', 'Pclass', 'Name', 'Sex', 'Age', 'SibSp', 'Parch', 'Ticket',\n",
       "       'Fare', 'Cabin', 'Embarked'],\n",
       "      dtype='object')"
      ]
     },
     "execution_count": 14,
     "metadata": {},
     "output_type": "execute_result"
    }
   ],
   "source": [
    "train_df.columns\n"
   ]
  },
  {
   "cell_type": "markdown",
   "id": "3284d4e3-e88b-4e96-9564-11092863d0d3",
   "metadata": {},
   "source": [
    "## EDA"
   ]
  },
  {
   "cell_type": "code",
   "execution_count": 15,
   "id": "32782f20-b9c8-4f90-ab01-60c750662f41",
   "metadata": {},
   "outputs": [
    {
     "data": {
      "image/png": "[encoded data removed]",
      "text/plain": [
       "<Figure size 640x480 with 1 Axes>"
      ]
     },
     "metadata": {},
     "output_type": "display_data"
    }
   ],
   "source": [
    "# Plot histogram\n",
    "sns.histplot(data = train_df, x=\"Age\", kde = True)\n",
    "plt.show()"
   ]
  },
  {
   "cell_type": "code",
   "execution_count": 16,
   "id": "a78ca7f6-5b64-4cd9-a1e0-2b73ce6bf001",
   "metadata": {},
   "outputs": [
    {
     "data": {
      "image/png": "[encoded data removed]",
      "text/plain": [
       "<Figure size 640x480 with 1 Axes>"
      ]
     },
     "metadata": {},
     "output_type": "display_data"
    }
   ],
   "source": [
    "sns.histplot(data = train_df, \n",
    "             x=\"Age\",\n",
    "             kde = False,\n",
    "             hue=\"Survived\",\n",
    "             element=\"poly\")\n",
    "plt.show()"
   ]
  },
  {
   "cell_type": "code",
   "execution_count": 17,
   "id": "7c049094-d0ee-4ab4-99c0-b70ae29109b4",
   "metadata": {},
   "outputs": [
    {
     "data": {
      "image/png": "[encoded data removed]",
      "text/plain": [
       "<Figure size 640x480 with 1 Axes>"
      ]
     },
     "metadata": {},
     "output_type": "display_data"
    }
   ],
   "source": [
    "create_piechart(train_df, \"Survived\")"
   ]
  },
  {
   "cell_type": "code",
   "execution_count": 18,
   "id": "54759a3f-1ddb-4913-bf45-2516e80b2c39",
   "metadata": {},
   "outputs": [
    {
     "data": {
      "image/png": "[encoded data removed]",
      "text/plain": [
       "<Figure size 640x480 with 1 Axes>"
      ]
     },
     "metadata": {},
     "output_type": "display_data"
    }
   ],
   "source": [
    "create_piechart(train_df, \"Sex\")"
   ]
  },
  {
   "cell_type": "code",
   "execution_count": 19,
   "id": "537e2534-2fbd-47e0-981a-fe66da0adfad",
   "metadata": {},
   "outputs": [
    {
     "name": "stderr",
     "output_type": "stream",
     "text": [
      "D:\\Users\\AK\\anaconda3\\Lib\\site-packages\\seaborn\\axisgrid.py:118: UserWarning: The figure layout has changed to tight\n",
      "  self._figure.tight_layout(*args, **kwargs)\n"
     ]
    },
    {
     "data": {
      "image/png": "[encoded data removed]",
      "text/plain": [
       "<Figure size 558.875x500 with 1 Axes>"
      ]
     },
     "metadata": {},
     "output_type": "display_data"
    }
   ],
   "source": [
    "sns.catplot(data=train_df, \n",
    "           x=\"Sex\",\n",
    "           y=\"Survived\",\n",
    "           hue=\"Pclass\",\n",
    "           kind=\"bar\")\n",
    "plt.show()"
   ]
  },
  {
   "cell_type": "code",
   "execution_count": 20,
   "id": "0983d1f4-3279-48da-a5b8-7e23d0ea9759",
   "metadata": {},
   "outputs": [
    {
     "name": "stderr",
     "output_type": "stream",
     "text": [
      "D:\\Users\\AK\\anaconda3\\Lib\\site-packages\\seaborn\\axisgrid.py:118: UserWarning: The figure layout has changed to tight\n",
      "  self._figure.tight_layout(*args, **kwargs)\n"
     ]
    },
    {
     "data": {
      "image/png": "[encoded data removed]",
      "text/plain": [
       "<Figure size 558.875x500 with 1 Axes>"
      ]
     },
     "metadata": {},
     "output_type": "display_data"
    }
   ],
   "source": [
    "sns.catplot(data=train_df, \n",
    "           x=\"Sex\",\n",
    "           y=\"Age\",\n",
    "           hue=\"Pclass\",\n",
    "           kind=\"box\")\n",
    "plt.show()"
   ]
  },
  {
   "cell_type": "code",
   "execution_count": 21,
   "id": "f090839c-7fbd-47d0-93c1-892aea29c851",
   "metadata": {},
   "outputs": [
    {
     "name": "stderr",
     "output_type": "stream",
     "text": [
      "D:\\Users\\AK\\anaconda3\\Lib\\site-packages\\seaborn\\axisgrid.py:118: UserWarning: The figure layout has changed to tight\n",
      "  self._figure.tight_layout(*args, **kwargs)\n"
     ]
    },
    {
     "data": {
      "image/png": "[encoded data removed]",
      "text/plain": [
       "<Figure size 558.875x500 with 1 Axes>"
      ]
     },
     "metadata": {},
     "output_type": "display_data"
    }
   ],
   "source": [
    "sns.catplot(data=train_df, \n",
    "           x=\"Sex\",\n",
    "           y=\"Age\",\n",
    "           hue=\"Pclass\",\n",
    "           kind=\"violin\")\n",
    "plt.show()"
   ]
  },
  {
   "cell_type": "code",
   "execution_count": 22,
   "id": "18c52184-384c-4ec6-ac93-93e1987e3464",
   "metadata": {},
   "outputs": [
    {
     "data": {
      "image/png": "[encoded data removed]",
      "text/plain": [
       "<Figure size 640x480 with 1 Axes>"
      ]
     },
     "metadata": {},
     "output_type": "display_data"
    }
   ],
   "source": [
    "sns.countplot(x=\"Survived\", hue=\"Embarked\", data=train_df)\n",
    "plt.show()"
   ]
  },
  {
   "cell_type": "code",
   "execution_count": 23,
   "id": "a254af92-346e-49f9-af8c-08a1ef1cacc1",
   "metadata": {},
   "outputs": [
    {
     "data": {
      "image/png": "[encoded data removed]",
      "text/plain": [
       "<Figure size 640x480 with 1 Axes>"
      ]
     },
     "metadata": {},
     "output_type": "display_data"
    }
   ],
   "source": [
    "sns.scatterplot(data=train_df, \n",
    "                x=\"Fare\", \n",
    "                y=\"Age\", \n",
    "                hue=\"Pclass\", \n",
    "                palette=\"gist_rainbow\")\n",
    "plt.show()"
   ]
  },
  {
   "cell_type": "code",
   "execution_count": 24,
   "id": "10abb18c-d881-4c2f-813c-908036063dd1",
   "metadata": {},
   "outputs": [
    {
     "data": {
      "image/png": "[encoded data removed]",
      "text/plain": [
       "<Figure size 640x480 with 1 Axes>"
      ]
     },
     "metadata": {},
     "output_type": "display_data"
    }
   ],
   "source": [
    "sns.scatterplot(data=train_df, \n",
    "                x=\"Fare\", \n",
    "                y=\"Age\", \n",
    "                hue=\"Survived\", \n",
    "                palette=\"gist_rainbow\")\n",
    "plt.show()"
   ]
  },
  {
   "cell_type": "markdown",
   "id": "f22ae9f5-4897-4a6a-8c7c-d21672536f0b",
   "metadata": {},
   "source": [
    "## Data preprocessing"
   ]
  },
  {
   "cell_type": "code",
   "execution_count": 25,
   "id": "2bb6b856-32b3-490d-8b3c-d404f18abcea",
   "metadata": {},
   "outputs": [
    {
     "data": {
      "text/html": [
       "<div>\n",
       "<style scoped>\n",
       "    .dataframe tbody tr th:only-of-type {\n",
       "        vertical-align: middle;\n",
       "    }\n",
       "\n",
       "    .dataframe tbody tr th {\n",
       "        vertical-align: top;\n",
       "    }\n",
       "\n",
       "    .dataframe thead th {\n",
       "        text-align: right;\n",
       "    }\n",
       "</style>\n",
       "<table border=\"1\" class=\"dataframe\">\n",
       "  <thead>\n",
       "    <tr style=\"text-align: right;\">\n",
       "      <th></th>\n",
       "      <th>Survived</th>\n",
       "      <th>Pclass</th>\n",
       "      <th>Name</th>\n",
       "      <th>Sex</th>\n",
       "      <th>Age</th>\n",
       "      <th>SibSp</th>\n",
       "      <th>Parch</th>\n",
       "      <th>Ticket</th>\n",
       "      <th>Fare</th>\n",
       "      <th>Cabin</th>\n",
       "      <th>Embarked</th>\n",
       "    </tr>\n",
       "    <tr>\n",
       "      <th>PassengerId</th>\n",
       "      <th></th>\n",
       "      <th></th>\n",
       "      <th></th>\n",
       "      <th></th>\n",
       "      <th></th>\n",
       "      <th></th>\n",
       "      <th></th>\n",
       "      <th></th>\n",
       "      <th></th>\n",
       "      <th></th>\n",
       "      <th></th>\n",
       "    </tr>\n",
       "  </thead>\n",
       "  <tbody>\n",
       "    <tr>\n",
       "      <th>1</th>\n",
       "      <td>0</td>\n",
       "      <td>3</td>\n",
       "      <td>Braund, Mr. Owen Harris</td>\n",
       "      <td>male</td>\n",
       "      <td>22.0</td>\n",
       "      <td>1</td>\n",
       "      <td>0</td>\n",
       "      <td>A/5 21171</td>\n",
       "      <td>7.2500</td>\n",
       "      <td>NaN</td>\n",
       "      <td>S</td>\n",
       "    </tr>\n",
       "    <tr>\n",
       "      <th>2</th>\n",
       "      <td>1</td>\n",
       "      <td>1</td>\n",
       "      <td>Cumings, Mrs. John Bradley (Florence Briggs Th...</td>\n",
       "      <td>female</td>\n",
       "      <td>38.0</td>\n",
       "      <td>1</td>\n",
       "      <td>0</td>\n",
       "      <td>PC 17599</td>\n",
       "      <td>71.2833</td>\n",
       "      <td>C85</td>\n",
       "      <td>C</td>\n",
       "    </tr>\n",
       "    <tr>\n",
       "      <th>3</th>\n",
       "      <td>1</td>\n",
       "      <td>3</td>\n",
       "      <td>Heikkinen, Miss. Laina</td>\n",
       "      <td>female</td>\n",
       "      <td>26.0</td>\n",
       "      <td>0</td>\n",
       "      <td>0</td>\n",
       "      <td>STON/O2. 3101282</td>\n",
       "      <td>7.9250</td>\n",
       "      <td>NaN</td>\n",
       "      <td>S</td>\n",
       "    </tr>\n",
       "    <tr>\n",
       "      <th>4</th>\n",
       "      <td>1</td>\n",
       "      <td>1</td>\n",
       "      <td>Futrelle, Mrs. Jacques Heath (Lily May Peel)</td>\n",
       "      <td>female</td>\n",
       "      <td>35.0</td>\n",
       "      <td>1</td>\n",
       "      <td>0</td>\n",
       "      <td>113803</td>\n",
       "      <td>53.1000</td>\n",
       "      <td>C123</td>\n",
       "      <td>S</td>\n",
       "    </tr>\n",
       "    <tr>\n",
       "      <th>5</th>\n",
       "      <td>0</td>\n",
       "      <td>3</td>\n",
       "      <td>Allen, Mr. William Henry</td>\n",
       "      <td>male</td>\n",
       "      <td>35.0</td>\n",
       "      <td>0</td>\n",
       "      <td>0</td>\n",
       "      <td>373450</td>\n",
       "      <td>8.0500</td>\n",
       "      <td>NaN</td>\n",
       "      <td>S</td>\n",
       "    </tr>\n",
       "  </tbody>\n",
       "</table>\n",
       "</div>"
      ],
      "text/plain": [
       "             Survived  Pclass  \\\n",
       "PassengerId                     \n",
       "1                   0       3   \n",
       "2                   1       1   \n",
       "3                   1       3   \n",
       "4                   1       1   \n",
       "5                   0       3   \n",
       "\n",
       "                                                          Name     Sex   Age  \\\n",
       "PassengerId                                                                    \n",
       "1                                      Braund, Mr. Owen Harris    male  22.0   \n",
       "2            Cumings, Mrs. John Bradley (Florence Briggs Th...  female  38.0   \n",
       "3                                       Heikkinen, Miss. Laina  female  26.0   \n",
       "4                 Futrelle, Mrs. Jacques Heath (Lily May Peel)  female  35.0   \n",
       "5                                     Allen, Mr. William Henry    male  35.0   \n",
       "\n",
       "             SibSp  Parch            Ticket     Fare Cabin Embarked  \n",
       "PassengerId                                                          \n",
       "1                1      0         A/5 21171   7.2500   NaN        S  \n",
       "2                1      0          PC 17599  71.2833   C85        C  \n",
       "3                0      0  STON/O2. 3101282   7.9250   NaN        S  \n",
       "4                1      0            113803  53.1000  C123        S  \n",
       "5                0      0            373450   8.0500   NaN        S  "
      ]
     },
     "execution_count": 25,
     "metadata": {},
     "output_type": "execute_result"
    }
   ],
   "source": [
    "train_df.head()"
   ]
  },
  {
   "cell_type": "code",
   "execution_count": 26,
   "id": "a9611463-d4f4-4e84-8484-67a08cd1931f",
   "metadata": {},
   "outputs": [],
   "source": [
    "#feature selection \n",
    "train_df = train_df[['Name','Pclass','Sex','Age','Survived']]\n",
    "test_df = test_df[['Name','Pclass','Sex','Age','Survived']]"
   ]
  },
  {
   "cell_type": "code",
   "execution_count": 27,
   "id": "6916dfad-cab8-4401-8592-23e267fdc357",
   "metadata": {},
   "outputs": [
    {
     "name": "stdout",
     "output_type": "stream",
     "text": [
      "Name          0\n",
      "Pclass        0\n",
      "Sex           0\n",
      "Age         177\n",
      "Survived      0\n",
      "dtype: int64\n",
      "\n",
      "Name        0\n",
      "Pclass      0\n",
      "Sex         0\n",
      "Age         2\n",
      "Survived    0\n",
      "dtype: int64\n"
     ]
    }
   ],
   "source": [
    "#finding the missing values\n",
    "print(train_df.isnull().sum())\n",
    "print()\n",
    "print(test_df.isnull().sum())"
   ]
  },
  {
   "cell_type": "code",
   "execution_count": 28,
   "id": "04946bc6-bc3b-405c-ad0f-88084f18ca59",
   "metadata": {},
   "outputs": [],
   "source": [
    "#imputing numerical missing data with mean value\n",
    "train_df[\"Age\"].fillna(train_df[\"Age\"].mean(), inplace=True)\n",
    "\n",
    "#imputing numerical missing data with mean value\n",
    "test_df[\"Age\"].fillna(test_df[\"Age\"].mean(),inplace=True)"
   ]
  },
  {
   "cell_type": "code",
   "execution_count": 29,
   "id": "3929a5c4-ae68-476e-b2b0-cdb6797d3742",
   "metadata": {},
   "outputs": [
    {
     "name": "stdout",
     "output_type": "stream",
     "text": [
      "Name        0\n",
      "Pclass      0\n",
      "Sex         0\n",
      "Age         0\n",
      "Survived    0\n",
      "dtype: int64\n",
      "\n",
      "Name        0\n",
      "Pclass      0\n",
      "Sex         0\n",
      "Age         0\n",
      "Survived    0\n",
      "dtype: int64\n"
     ]
    }
   ],
   "source": [
    "#finding the missing values\n",
    "print(train_df.isnull().sum())\n",
    "print()\n",
    "print(test_df.isnull().sum())"
   ]
  },
  {
   "cell_type": "code",
   "execution_count": 30,
   "id": "99f11e3b-8825-422c-a489-f532100292be",
   "metadata": {},
   "outputs": [],
   "source": [
    "train_df[\"Sex\"]=train_df[\"Sex\"].map({\"male\":0,\"female\":1})\n",
    "test_df[\"Sex\"]=test_df[\"Sex\"].map({\"male\":0,\"female\":1})"
   ]
  },
  {
   "cell_type": "code",
   "execution_count": 31,
   "id": "8a3920ee-7fdb-49c8-bc90-7509d4c05501",
   "metadata": {},
   "outputs": [
    {
     "data": {
      "text/html": [
       "<div>\n",
       "<style scoped>\n",
       "    .dataframe tbody tr th:only-of-type {\n",
       "        vertical-align: middle;\n",
       "    }\n",
       "\n",
       "    .dataframe tbody tr th {\n",
       "        vertical-align: top;\n",
       "    }\n",
       "\n",
       "    .dataframe thead th {\n",
       "        text-align: right;\n",
       "    }\n",
       "</style>\n",
       "<table border=\"1\" class=\"dataframe\">\n",
       "  <thead>\n",
       "    <tr style=\"text-align: right;\">\n",
       "      <th></th>\n",
       "      <th>Name</th>\n",
       "      <th>Pclass</th>\n",
       "      <th>Sex</th>\n",
       "      <th>Age</th>\n",
       "      <th>Survived</th>\n",
       "    </tr>\n",
       "    <tr>\n",
       "      <th>PassengerId</th>\n",
       "      <th></th>\n",
       "      <th></th>\n",
       "      <th></th>\n",
       "      <th></th>\n",
       "      <th></th>\n",
       "    </tr>\n",
       "  </thead>\n",
       "  <tbody>\n",
       "    <tr>\n",
       "      <th>1</th>\n",
       "      <td>Braund, Mr. Owen Harris</td>\n",
       "      <td>3</td>\n",
       "      <td>0</td>\n",
       "      <td>22.0</td>\n",
       "      <td>0</td>\n",
       "    </tr>\n",
       "    <tr>\n",
       "      <th>2</th>\n",
       "      <td>Cumings, Mrs. John Bradley (Florence Briggs Th...</td>\n",
       "      <td>1</td>\n",
       "      <td>1</td>\n",
       "      <td>38.0</td>\n",
       "      <td>1</td>\n",
       "    </tr>\n",
       "    <tr>\n",
       "      <th>3</th>\n",
       "      <td>Heikkinen, Miss. Laina</td>\n",
       "      <td>3</td>\n",
       "      <td>1</td>\n",
       "      <td>26.0</td>\n",
       "      <td>1</td>\n",
       "    </tr>\n",
       "    <tr>\n",
       "      <th>4</th>\n",
       "      <td>Futrelle, Mrs. Jacques Heath (Lily May Peel)</td>\n",
       "      <td>1</td>\n",
       "      <td>1</td>\n",
       "      <td>35.0</td>\n",
       "      <td>1</td>\n",
       "    </tr>\n",
       "    <tr>\n",
       "      <th>5</th>\n",
       "      <td>Allen, Mr. William Henry</td>\n",
       "      <td>3</td>\n",
       "      <td>0</td>\n",
       "      <td>35.0</td>\n",
       "      <td>0</td>\n",
       "    </tr>\n",
       "  </tbody>\n",
       "</table>\n",
       "</div>"
      ],
      "text/plain": [
       "                                                          Name  Pclass  Sex  \\\n",
       "PassengerId                                                                   \n",
       "1                                      Braund, Mr. Owen Harris       3    0   \n",
       "2            Cumings, Mrs. John Bradley (Florence Briggs Th...       1    1   \n",
       "3                                       Heikkinen, Miss. Laina       3    1   \n",
       "4                 Futrelle, Mrs. Jacques Heath (Lily May Peel)       1    1   \n",
       "5                                     Allen, Mr. William Henry       3    0   \n",
       "\n",
       "              Age  Survived  \n",
       "PassengerId                  \n",
       "1            22.0         0  \n",
       "2            38.0         1  \n",
       "3            26.0         1  \n",
       "4            35.0         1  \n",
       "5            35.0         0  "
      ]
     },
     "execution_count": 31,
     "metadata": {},
     "output_type": "execute_result"
    }
   ],
   "source": [
    "train_df.head()"
   ]
  },
  {
   "cell_type": "code",
   "execution_count": null,
   "id": "8a651418-304e-4d10-80ac-7c90826b493f",
   "metadata": {},
   "outputs": [],
   "source": [
    "#transforming categorical data to numerical\n",
    "\n",
    "# from sklearn import preprocessing\n",
    "\n",
    "# colname=['Sex']\n",
    "\n",
    "# le=preprocessing.LabelEncoder()\n",
    "\n",
    "# for x in colname:\n",
    "#     training_data[x]=le.fit_transform(training_data[x])\n",
    "#     testing_data[x]=le.fit_transform(testing_data[x])\n",
    "    \n",
    "# training_data['Sex']=training_data['Sex'].map({\"female\":0, \"male\":1})\n",
    "# testing_data['Sex']=testing_data['Sex'].map({\"female\":0, \"male\":1})"
   ]
  },
  {
   "cell_type": "code",
   "execution_count": null,
   "id": "c064ea4c-2de9-40d7-afe5-46914138bbfd",
   "metadata": {},
   "outputs": [],
   "source": [
    "# training_data.drop(\"sex1\", inplace=True, axis=1)"
   ]
  },
  {
   "cell_type": "code",
   "execution_count": null,
   "id": "cc5b4287-8f2e-4219-8efa-c3332c038956",
   "metadata": {},
   "outputs": [],
   "source": [
    "# testing_data.head()"
   ]
  },
  {
   "cell_type": "code",
   "execution_count": 32,
   "id": "fbea4eb2-3a7f-407b-9af1-d64fa1198b10",
   "metadata": {},
   "outputs": [
    {
     "data": {
      "text/html": [
       "<div>\n",
       "<style scoped>\n",
       "    .dataframe tbody tr th:only-of-type {\n",
       "        vertical-align: middle;\n",
       "    }\n",
       "\n",
       "    .dataframe tbody tr th {\n",
       "        vertical-align: top;\n",
       "    }\n",
       "\n",
       "    .dataframe thead th {\n",
       "        text-align: right;\n",
       "    }\n",
       "</style>\n",
       "<table border=\"1\" class=\"dataframe\">\n",
       "  <thead>\n",
       "    <tr style=\"text-align: right;\">\n",
       "      <th></th>\n",
       "      <th>Name</th>\n",
       "      <th>Pclass</th>\n",
       "      <th>Sex</th>\n",
       "      <th>Age</th>\n",
       "      <th>Survived</th>\n",
       "    </tr>\n",
       "    <tr>\n",
       "      <th>PassengerId</th>\n",
       "      <th></th>\n",
       "      <th></th>\n",
       "      <th></th>\n",
       "      <th></th>\n",
       "      <th></th>\n",
       "    </tr>\n",
       "  </thead>\n",
       "  <tbody>\n",
       "    <tr>\n",
       "      <th>887</th>\n",
       "      <td>Montvila, Rev. Juozas</td>\n",
       "      <td>2</td>\n",
       "      <td>0</td>\n",
       "      <td>27.000000</td>\n",
       "      <td>0</td>\n",
       "    </tr>\n",
       "    <tr>\n",
       "      <th>888</th>\n",
       "      <td>Graham, Miss. Margaret Edith</td>\n",
       "      <td>1</td>\n",
       "      <td>1</td>\n",
       "      <td>19.000000</td>\n",
       "      <td>1</td>\n",
       "    </tr>\n",
       "    <tr>\n",
       "      <th>889</th>\n",
       "      <td>Johnston, Miss. Catherine Helen \"Carrie\"</td>\n",
       "      <td>3</td>\n",
       "      <td>1</td>\n",
       "      <td>29.699118</td>\n",
       "      <td>0</td>\n",
       "    </tr>\n",
       "    <tr>\n",
       "      <th>890</th>\n",
       "      <td>Behr, Mr. Karl Howell</td>\n",
       "      <td>1</td>\n",
       "      <td>0</td>\n",
       "      <td>26.000000</td>\n",
       "      <td>1</td>\n",
       "    </tr>\n",
       "    <tr>\n",
       "      <th>891</th>\n",
       "      <td>Dooley, Mr. Patrick</td>\n",
       "      <td>3</td>\n",
       "      <td>0</td>\n",
       "      <td>32.000000</td>\n",
       "      <td>0</td>\n",
       "    </tr>\n",
       "  </tbody>\n",
       "</table>\n",
       "</div>"
      ],
      "text/plain": [
       "                                                 Name  Pclass  Sex        Age  \\\n",
       "PassengerId                                                                     \n",
       "887                             Montvila, Rev. Juozas       2    0  27.000000   \n",
       "888                      Graham, Miss. Margaret Edith       1    1  19.000000   \n",
       "889          Johnston, Miss. Catherine Helen \"Carrie\"       3    1  29.699118   \n",
       "890                             Behr, Mr. Karl Howell       1    0  26.000000   \n",
       "891                               Dooley, Mr. Patrick       3    0  32.000000   \n",
       "\n",
       "             Survived  \n",
       "PassengerId            \n",
       "887                 0  \n",
       "888                 1  \n",
       "889                 0  \n",
       "890                 1  \n",
       "891                 0  "
      ]
     },
     "execution_count": 32,
     "metadata": {},
     "output_type": "execute_result"
    }
   ],
   "source": [
    "train_df.tail()"
   ]
  },
  {
   "cell_type": "code",
   "execution_count": 33,
   "id": "1cb4566a-ca27-42a1-b27e-c00d4359aabf",
   "metadata": {},
   "outputs": [
    {
     "data": {
      "text/html": [
       "<div>\n",
       "<style scoped>\n",
       "    .dataframe tbody tr th:only-of-type {\n",
       "        vertical-align: middle;\n",
       "    }\n",
       "\n",
       "    .dataframe tbody tr th {\n",
       "        vertical-align: top;\n",
       "    }\n",
       "\n",
       "    .dataframe thead th {\n",
       "        text-align: right;\n",
       "    }\n",
       "</style>\n",
       "<table border=\"1\" class=\"dataframe\">\n",
       "  <thead>\n",
       "    <tr style=\"text-align: right;\">\n",
       "      <th></th>\n",
       "      <th>Name</th>\n",
       "      <th>Pclass</th>\n",
       "      <th>Sex</th>\n",
       "      <th>Age</th>\n",
       "      <th>Survived</th>\n",
       "    </tr>\n",
       "    <tr>\n",
       "      <th>PassengerId</th>\n",
       "      <th></th>\n",
       "      <th></th>\n",
       "      <th></th>\n",
       "      <th></th>\n",
       "      <th></th>\n",
       "    </tr>\n",
       "  </thead>\n",
       "  <tbody>\n",
       "    <tr>\n",
       "      <th>871</th>\n",
       "      <td>Balkic, Mr. Cerin</td>\n",
       "      <td>3</td>\n",
       "      <td>0</td>\n",
       "      <td>26.000000</td>\n",
       "      <td>0</td>\n",
       "    </tr>\n",
       "    <tr>\n",
       "      <th>872</th>\n",
       "      <td>Beckwith, Mrs. Richard Leonard (Sallie Monypeny)</td>\n",
       "      <td>1</td>\n",
       "      <td>1</td>\n",
       "      <td>47.000000</td>\n",
       "      <td>1</td>\n",
       "    </tr>\n",
       "    <tr>\n",
       "      <th>873</th>\n",
       "      <td>Carlsson, Mr. Frans Olof</td>\n",
       "      <td>1</td>\n",
       "      <td>0</td>\n",
       "      <td>33.000000</td>\n",
       "      <td>0</td>\n",
       "    </tr>\n",
       "    <tr>\n",
       "      <th>874</th>\n",
       "      <td>Vander Cruyssen, Mr. Victor</td>\n",
       "      <td>3</td>\n",
       "      <td>0</td>\n",
       "      <td>47.000000</td>\n",
       "      <td>0</td>\n",
       "    </tr>\n",
       "    <tr>\n",
       "      <th>875</th>\n",
       "      <td>Abelson, Mrs. Samuel (Hannah Wizosky)</td>\n",
       "      <td>2</td>\n",
       "      <td>1</td>\n",
       "      <td>28.000000</td>\n",
       "      <td>1</td>\n",
       "    </tr>\n",
       "    <tr>\n",
       "      <th>876</th>\n",
       "      <td>Najib, Miss. Adele Kiamie \"Jane\"</td>\n",
       "      <td>3</td>\n",
       "      <td>1</td>\n",
       "      <td>15.000000</td>\n",
       "      <td>1</td>\n",
       "    </tr>\n",
       "    <tr>\n",
       "      <th>877</th>\n",
       "      <td>Gustafsson, Mr. Alfred Ossian</td>\n",
       "      <td>3</td>\n",
       "      <td>0</td>\n",
       "      <td>20.000000</td>\n",
       "      <td>0</td>\n",
       "    </tr>\n",
       "    <tr>\n",
       "      <th>878</th>\n",
       "      <td>Petroff, Mr. Nedelio</td>\n",
       "      <td>3</td>\n",
       "      <td>0</td>\n",
       "      <td>19.000000</td>\n",
       "      <td>0</td>\n",
       "    </tr>\n",
       "    <tr>\n",
       "      <th>879</th>\n",
       "      <td>Laleff, Mr. Kristo</td>\n",
       "      <td>3</td>\n",
       "      <td>0</td>\n",
       "      <td>29.842105</td>\n",
       "      <td>0</td>\n",
       "    </tr>\n",
       "    <tr>\n",
       "      <th>880</th>\n",
       "      <td>Potter, Mrs. Thomas Jr (Lily Alexenia Wilson)</td>\n",
       "      <td>1</td>\n",
       "      <td>1</td>\n",
       "      <td>56.000000</td>\n",
       "      <td>1</td>\n",
       "    </tr>\n",
       "    <tr>\n",
       "      <th>881</th>\n",
       "      <td>Shelley, Mrs. William (Imanita Parrish Hall)</td>\n",
       "      <td>2</td>\n",
       "      <td>1</td>\n",
       "      <td>25.000000</td>\n",
       "      <td>1</td>\n",
       "    </tr>\n",
       "    <tr>\n",
       "      <th>882</th>\n",
       "      <td>Markun, Mr. Johann</td>\n",
       "      <td>3</td>\n",
       "      <td>0</td>\n",
       "      <td>33.000000</td>\n",
       "      <td>0</td>\n",
       "    </tr>\n",
       "    <tr>\n",
       "      <th>883</th>\n",
       "      <td>Dahlberg, Miss. Gerda Ulrika</td>\n",
       "      <td>3</td>\n",
       "      <td>1</td>\n",
       "      <td>22.000000</td>\n",
       "      <td>0</td>\n",
       "    </tr>\n",
       "    <tr>\n",
       "      <th>884</th>\n",
       "      <td>Banfield, Mr. Frederick James</td>\n",
       "      <td>2</td>\n",
       "      <td>0</td>\n",
       "      <td>28.000000</td>\n",
       "      <td>0</td>\n",
       "    </tr>\n",
       "    <tr>\n",
       "      <th>885</th>\n",
       "      <td>Sutehall, Mr. Henry Jr</td>\n",
       "      <td>3</td>\n",
       "      <td>0</td>\n",
       "      <td>25.000000</td>\n",
       "      <td>0</td>\n",
       "    </tr>\n",
       "    <tr>\n",
       "      <th>886</th>\n",
       "      <td>Rice, Mrs. William (Margaret Norton)</td>\n",
       "      <td>3</td>\n",
       "      <td>1</td>\n",
       "      <td>39.000000</td>\n",
       "      <td>0</td>\n",
       "    </tr>\n",
       "    <tr>\n",
       "      <th>887</th>\n",
       "      <td>Montvila, Rev. Juozas</td>\n",
       "      <td>2</td>\n",
       "      <td>0</td>\n",
       "      <td>27.000000</td>\n",
       "      <td>0</td>\n",
       "    </tr>\n",
       "    <tr>\n",
       "      <th>888</th>\n",
       "      <td>Graham, Miss. Margaret Edith</td>\n",
       "      <td>1</td>\n",
       "      <td>1</td>\n",
       "      <td>19.000000</td>\n",
       "      <td>1</td>\n",
       "    </tr>\n",
       "    <tr>\n",
       "      <th>889</th>\n",
       "      <td>Johnston, Miss. Catherine Helen \"Carrie\"</td>\n",
       "      <td>3</td>\n",
       "      <td>1</td>\n",
       "      <td>29.842105</td>\n",
       "      <td>0</td>\n",
       "    </tr>\n",
       "    <tr>\n",
       "      <th>890</th>\n",
       "      <td>Behr, Mr. Karl Howell</td>\n",
       "      <td>1</td>\n",
       "      <td>0</td>\n",
       "      <td>26.000000</td>\n",
       "      <td>1</td>\n",
       "    </tr>\n",
       "    <tr>\n",
       "      <th>891</th>\n",
       "      <td>Dooley, Mr. Patrick</td>\n",
       "      <td>3</td>\n",
       "      <td>0</td>\n",
       "      <td>32.000000</td>\n",
       "      <td>0</td>\n",
       "    </tr>\n",
       "  </tbody>\n",
       "</table>\n",
       "</div>"
      ],
      "text/plain": [
       "                                                         Name  Pclass  Sex  \\\n",
       "PassengerId                                                                  \n",
       "871                                         Balkic, Mr. Cerin       3    0   \n",
       "872          Beckwith, Mrs. Richard Leonard (Sallie Monypeny)       1    1   \n",
       "873                                  Carlsson, Mr. Frans Olof       1    0   \n",
       "874                               Vander Cruyssen, Mr. Victor       3    0   \n",
       "875                     Abelson, Mrs. Samuel (Hannah Wizosky)       2    1   \n",
       "876                          Najib, Miss. Adele Kiamie \"Jane\"       3    1   \n",
       "877                             Gustafsson, Mr. Alfred Ossian       3    0   \n",
       "878                                      Petroff, Mr. Nedelio       3    0   \n",
       "879                                        Laleff, Mr. Kristo       3    0   \n",
       "880             Potter, Mrs. Thomas Jr (Lily Alexenia Wilson)       1    1   \n",
       "881              Shelley, Mrs. William (Imanita Parrish Hall)       2    1   \n",
       "882                                        Markun, Mr. Johann       3    0   \n",
       "883                              Dahlberg, Miss. Gerda Ulrika       3    1   \n",
       "884                             Banfield, Mr. Frederick James       2    0   \n",
       "885                                    Sutehall, Mr. Henry Jr       3    0   \n",
       "886                      Rice, Mrs. William (Margaret Norton)       3    1   \n",
       "887                                     Montvila, Rev. Juozas       2    0   \n",
       "888                              Graham, Miss. Margaret Edith       1    1   \n",
       "889                  Johnston, Miss. Catherine Helen \"Carrie\"       3    1   \n",
       "890                                     Behr, Mr. Karl Howell       1    0   \n",
       "891                                       Dooley, Mr. Patrick       3    0   \n",
       "\n",
       "                   Age  Survived  \n",
       "PassengerId                       \n",
       "871          26.000000         0  \n",
       "872          47.000000         1  \n",
       "873          33.000000         0  \n",
       "874          47.000000         0  \n",
       "875          28.000000         1  \n",
       "876          15.000000         1  \n",
       "877          20.000000         0  \n",
       "878          19.000000         0  \n",
       "879          29.842105         0  \n",
       "880          56.000000         1  \n",
       "881          25.000000         1  \n",
       "882          33.000000         0  \n",
       "883          22.000000         0  \n",
       "884          28.000000         0  \n",
       "885          25.000000         0  \n",
       "886          39.000000         0  \n",
       "887          27.000000         0  \n",
       "888          19.000000         1  \n",
       "889          29.842105         0  \n",
       "890          26.000000         1  \n",
       "891          32.000000         0  "
      ]
     },
     "execution_count": 33,
     "metadata": {},
     "output_type": "execute_result"
    }
   ],
   "source": [
    "test_df.head(23)"
   ]
  },
  {
   "cell_type": "code",
   "execution_count": 34,
   "id": "08e86a87-5ac8-49b3-8e5b-b1c96fef089c",
   "metadata": {},
   "outputs": [
    {
     "data": {
      "text/html": [
       "<div>\n",
       "<style scoped>\n",
       "    .dataframe tbody tr th:only-of-type {\n",
       "        vertical-align: middle;\n",
       "    }\n",
       "\n",
       "    .dataframe tbody tr th {\n",
       "        vertical-align: top;\n",
       "    }\n",
       "\n",
       "    .dataframe thead th {\n",
       "        text-align: right;\n",
       "    }\n",
       "</style>\n",
       "<table border=\"1\" class=\"dataframe\">\n",
       "  <thead>\n",
       "    <tr style=\"text-align: right;\">\n",
       "      <th></th>\n",
       "      <th>Name</th>\n",
       "      <th>Pclass</th>\n",
       "      <th>Sex</th>\n",
       "      <th>Age</th>\n",
       "      <th>Survived</th>\n",
       "    </tr>\n",
       "    <tr>\n",
       "      <th>PassengerId</th>\n",
       "      <th></th>\n",
       "      <th></th>\n",
       "      <th></th>\n",
       "      <th></th>\n",
       "      <th></th>\n",
       "    </tr>\n",
       "  </thead>\n",
       "  <tbody>\n",
       "    <tr>\n",
       "      <th>869</th>\n",
       "      <td>van Melkebeke, Mr. Philemon</td>\n",
       "      <td>3</td>\n",
       "      <td>0</td>\n",
       "      <td>29.699118</td>\n",
       "      <td>0</td>\n",
       "    </tr>\n",
       "    <tr>\n",
       "      <th>870</th>\n",
       "      <td>Johnson, Master. Harold Theodor</td>\n",
       "      <td>3</td>\n",
       "      <td>0</td>\n",
       "      <td>4.000000</td>\n",
       "      <td>1</td>\n",
       "    </tr>\n",
       "    <tr>\n",
       "      <th>871</th>\n",
       "      <td>Balkic, Mr. Cerin</td>\n",
       "      <td>3</td>\n",
       "      <td>0</td>\n",
       "      <td>26.000000</td>\n",
       "      <td>0</td>\n",
       "    </tr>\n",
       "    <tr>\n",
       "      <th>872</th>\n",
       "      <td>Beckwith, Mrs. Richard Leonard (Sallie Monypeny)</td>\n",
       "      <td>1</td>\n",
       "      <td>1</td>\n",
       "      <td>47.000000</td>\n",
       "      <td>1</td>\n",
       "    </tr>\n",
       "    <tr>\n",
       "      <th>873</th>\n",
       "      <td>Carlsson, Mr. Frans Olof</td>\n",
       "      <td>1</td>\n",
       "      <td>0</td>\n",
       "      <td>33.000000</td>\n",
       "      <td>0</td>\n",
       "    </tr>\n",
       "    <tr>\n",
       "      <th>874</th>\n",
       "      <td>Vander Cruyssen, Mr. Victor</td>\n",
       "      <td>3</td>\n",
       "      <td>0</td>\n",
       "      <td>47.000000</td>\n",
       "      <td>0</td>\n",
       "    </tr>\n",
       "    <tr>\n",
       "      <th>875</th>\n",
       "      <td>Abelson, Mrs. Samuel (Hannah Wizosky)</td>\n",
       "      <td>2</td>\n",
       "      <td>1</td>\n",
       "      <td>28.000000</td>\n",
       "      <td>1</td>\n",
       "    </tr>\n",
       "    <tr>\n",
       "      <th>876</th>\n",
       "      <td>Najib, Miss. Adele Kiamie \"Jane\"</td>\n",
       "      <td>3</td>\n",
       "      <td>1</td>\n",
       "      <td>15.000000</td>\n",
       "      <td>1</td>\n",
       "    </tr>\n",
       "    <tr>\n",
       "      <th>877</th>\n",
       "      <td>Gustafsson, Mr. Alfred Ossian</td>\n",
       "      <td>3</td>\n",
       "      <td>0</td>\n",
       "      <td>20.000000</td>\n",
       "      <td>0</td>\n",
       "    </tr>\n",
       "    <tr>\n",
       "      <th>878</th>\n",
       "      <td>Petroff, Mr. Nedelio</td>\n",
       "      <td>3</td>\n",
       "      <td>0</td>\n",
       "      <td>19.000000</td>\n",
       "      <td>0</td>\n",
       "    </tr>\n",
       "    <tr>\n",
       "      <th>879</th>\n",
       "      <td>Laleff, Mr. Kristo</td>\n",
       "      <td>3</td>\n",
       "      <td>0</td>\n",
       "      <td>29.699118</td>\n",
       "      <td>0</td>\n",
       "    </tr>\n",
       "    <tr>\n",
       "      <th>880</th>\n",
       "      <td>Potter, Mrs. Thomas Jr (Lily Alexenia Wilson)</td>\n",
       "      <td>1</td>\n",
       "      <td>1</td>\n",
       "      <td>56.000000</td>\n",
       "      <td>1</td>\n",
       "    </tr>\n",
       "    <tr>\n",
       "      <th>881</th>\n",
       "      <td>Shelley, Mrs. William (Imanita Parrish Hall)</td>\n",
       "      <td>2</td>\n",
       "      <td>1</td>\n",
       "      <td>25.000000</td>\n",
       "      <td>1</td>\n",
       "    </tr>\n",
       "    <tr>\n",
       "      <th>882</th>\n",
       "      <td>Markun, Mr. Johann</td>\n",
       "      <td>3</td>\n",
       "      <td>0</td>\n",
       "      <td>33.000000</td>\n",
       "      <td>0</td>\n",
       "    </tr>\n",
       "    <tr>\n",
       "      <th>883</th>\n",
       "      <td>Dahlberg, Miss. Gerda Ulrika</td>\n",
       "      <td>3</td>\n",
       "      <td>1</td>\n",
       "      <td>22.000000</td>\n",
       "      <td>0</td>\n",
       "    </tr>\n",
       "    <tr>\n",
       "      <th>884</th>\n",
       "      <td>Banfield, Mr. Frederick James</td>\n",
       "      <td>2</td>\n",
       "      <td>0</td>\n",
       "      <td>28.000000</td>\n",
       "      <td>0</td>\n",
       "    </tr>\n",
       "    <tr>\n",
       "      <th>885</th>\n",
       "      <td>Sutehall, Mr. Henry Jr</td>\n",
       "      <td>3</td>\n",
       "      <td>0</td>\n",
       "      <td>25.000000</td>\n",
       "      <td>0</td>\n",
       "    </tr>\n",
       "    <tr>\n",
       "      <th>886</th>\n",
       "      <td>Rice, Mrs. William (Margaret Norton)</td>\n",
       "      <td>3</td>\n",
       "      <td>1</td>\n",
       "      <td>39.000000</td>\n",
       "      <td>0</td>\n",
       "    </tr>\n",
       "    <tr>\n",
       "      <th>887</th>\n",
       "      <td>Montvila, Rev. Juozas</td>\n",
       "      <td>2</td>\n",
       "      <td>0</td>\n",
       "      <td>27.000000</td>\n",
       "      <td>0</td>\n",
       "    </tr>\n",
       "    <tr>\n",
       "      <th>888</th>\n",
       "      <td>Graham, Miss. Margaret Edith</td>\n",
       "      <td>1</td>\n",
       "      <td>1</td>\n",
       "      <td>19.000000</td>\n",
       "      <td>1</td>\n",
       "    </tr>\n",
       "    <tr>\n",
       "      <th>889</th>\n",
       "      <td>Johnston, Miss. Catherine Helen \"Carrie\"</td>\n",
       "      <td>3</td>\n",
       "      <td>1</td>\n",
       "      <td>29.699118</td>\n",
       "      <td>0</td>\n",
       "    </tr>\n",
       "    <tr>\n",
       "      <th>890</th>\n",
       "      <td>Behr, Mr. Karl Howell</td>\n",
       "      <td>1</td>\n",
       "      <td>0</td>\n",
       "      <td>26.000000</td>\n",
       "      <td>1</td>\n",
       "    </tr>\n",
       "    <tr>\n",
       "      <th>891</th>\n",
       "      <td>Dooley, Mr. Patrick</td>\n",
       "      <td>3</td>\n",
       "      <td>0</td>\n",
       "      <td>32.000000</td>\n",
       "      <td>0</td>\n",
       "    </tr>\n",
       "  </tbody>\n",
       "</table>\n",
       "</div>"
      ],
      "text/plain": [
       "                                                         Name  Pclass  Sex  \\\n",
       "PassengerId                                                                  \n",
       "869                               van Melkebeke, Mr. Philemon       3    0   \n",
       "870                           Johnson, Master. Harold Theodor       3    0   \n",
       "871                                         Balkic, Mr. Cerin       3    0   \n",
       "872          Beckwith, Mrs. Richard Leonard (Sallie Monypeny)       1    1   \n",
       "873                                  Carlsson, Mr. Frans Olof       1    0   \n",
       "874                               Vander Cruyssen, Mr. Victor       3    0   \n",
       "875                     Abelson, Mrs. Samuel (Hannah Wizosky)       2    1   \n",
       "876                          Najib, Miss. Adele Kiamie \"Jane\"       3    1   \n",
       "877                             Gustafsson, Mr. Alfred Ossian       3    0   \n",
       "878                                      Petroff, Mr. Nedelio       3    0   \n",
       "879                                        Laleff, Mr. Kristo       3    0   \n",
       "880             Potter, Mrs. Thomas Jr (Lily Alexenia Wilson)       1    1   \n",
       "881              Shelley, Mrs. William (Imanita Parrish Hall)       2    1   \n",
       "882                                        Markun, Mr. Johann       3    0   \n",
       "883                              Dahlberg, Miss. Gerda Ulrika       3    1   \n",
       "884                             Banfield, Mr. Frederick James       2    0   \n",
       "885                                    Sutehall, Mr. Henry Jr       3    0   \n",
       "886                      Rice, Mrs. William (Margaret Norton)       3    1   \n",
       "887                                     Montvila, Rev. Juozas       2    0   \n",
       "888                              Graham, Miss. Margaret Edith       1    1   \n",
       "889                  Johnston, Miss. Catherine Helen \"Carrie\"       3    1   \n",
       "890                                     Behr, Mr. Karl Howell       1    0   \n",
       "891                                       Dooley, Mr. Patrick       3    0   \n",
       "\n",
       "                   Age  Survived  \n",
       "PassengerId                       \n",
       "869          29.699118         0  \n",
       "870           4.000000         1  \n",
       "871          26.000000         0  \n",
       "872          47.000000         1  \n",
       "873          33.000000         0  \n",
       "874          47.000000         0  \n",
       "875          28.000000         1  \n",
       "876          15.000000         1  \n",
       "877          20.000000         0  \n",
       "878          19.000000         0  \n",
       "879          29.699118         0  \n",
       "880          56.000000         1  \n",
       "881          25.000000         1  \n",
       "882          33.000000         0  \n",
       "883          22.000000         0  \n",
       "884          28.000000         0  \n",
       "885          25.000000         0  \n",
       "886          39.000000         0  \n",
       "887          27.000000         0  \n",
       "888          19.000000         1  \n",
       "889          29.699118         0  \n",
       "890          26.000000         1  \n",
       "891          32.000000         0  "
      ]
     },
     "execution_count": 34,
     "metadata": {},
     "output_type": "execute_result"
    }
   ],
   "source": [
    "train_df.tail(23)"
   ]
  },
  {
   "cell_type": "code",
   "execution_count": 38,
   "id": "5e2c778a-cd44-479c-82cb-95e16ff4f902",
   "metadata": {},
   "outputs": [],
   "source": [
    "X_train=train_df.values[:870,  1:-1] # variables from pclass to age [ observation ,  columns]\n",
    "y_train=train_df.values[:870,   -1] # passangersIds from 1 to 870 \n",
    "y_train=y_train.astype(int)\n",
    "\n",
    "X_test=test_df.values[:, 1:-1]\n",
    "y_test=test_df.values[:, -1]\n",
    "y_test=y_test.astype(int)"
   ]
  },
  {
   "cell_type": "code",
   "execution_count": 44,
   "id": "934054ab-ac8d-4755-81be-ee459e9ec30b",
   "metadata": {},
   "outputs": [],
   "source": [
    "from sklearn.preprocessing import MinMaxScaler\n",
    "\n",
    "# Create an instance of MinMaxScaler\n",
    "scaler = MinMaxScaler()\n",
    "\n",
    "# Fit the scaler on the training data and transform it\n",
    "X_train_scale = scaler.fit_transform(X_train)\n",
    "\n",
    "# Transform the test data using the same scaler\n",
    "X_test_scale = scaler.transform(X_test)\n"
   ]
  },
  {
   "cell_type": "code",
   "execution_count": 45,
   "id": "ca86c2ac-9414-4f90-82e1-f76a51d10c25",
   "metadata": {},
   "outputs": [
    {
     "data": {
      "text/plain": [
       "array([[1.        , 0.        , 0.27117366],\n",
       "       [0.        , 1.        , 0.4722292 ],\n",
       "       [1.        , 1.        , 0.32143755],\n",
       "       ...,\n",
       "       [0.        , 0.        , 0.3842674 ],\n",
       "       [1.        , 0.        , 0.36792055],\n",
       "       [1.        , 0.        , 0.04498618]])"
      ]
     },
     "execution_count": 45,
     "metadata": {},
     "output_type": "execute_result"
    }
   ],
   "source": [
    "X_train_scale"
   ]
  },
  {
   "cell_type": "code",
   "execution_count": 46,
   "id": "905d1abf-3337-4d93-8a8d-aa5aa8f5da5e",
   "metadata": {},
   "outputs": [
    {
     "data": {
      "text/plain": [
       "array([[1.        , 0.        , 0.32143755],\n",
       "       [0.        , 1.        , 0.58532295],\n",
       "       [0.        , 0.        , 0.40939935],\n",
       "       [1.        , 0.        , 0.58532295],\n",
       "       [0.5       , 1.        , 0.34656949],\n",
       "       [1.        , 1.        , 0.18321186],\n",
       "       [1.        , 0.        , 0.24604172],\n",
       "       [1.        , 0.        , 0.23347575],\n",
       "       [1.        , 0.        , 0.36971733],\n",
       "       [0.        , 1.        , 0.69841669],\n",
       "       [0.5       , 1.        , 0.30887158],\n",
       "       [1.        , 0.        , 0.40939935],\n",
       "       [1.        , 1.        , 0.27117366],\n",
       "       [0.5       , 0.        , 0.34656949],\n",
       "       [1.        , 0.        , 0.30887158],\n",
       "       [1.        , 1.        , 0.48479517],\n",
       "       [0.5       , 0.        , 0.33400352],\n",
       "       [0.        , 1.        , 0.23347575],\n",
       "       [1.        , 1.        , 0.36971733],\n",
       "       [0.        , 0.        , 0.32143755],\n",
       "       [1.        , 0.        , 0.39683338]])"
      ]
     },
     "execution_count": 46,
     "metadata": {},
     "output_type": "execute_result"
    }
   ],
   "source": [
    "X_test_scale"
   ]
  },
  {
   "cell_type": "markdown",
   "id": "d8c8fda5-d876-4a0b-9f0e-252c1484488d",
   "metadata": {},
   "source": [
    "# Model building\n",
    "\n",
    "## KNN"
   ]
  },
  {
   "cell_type": "code",
   "execution_count": 52,
   "id": "aec7dfb1-1b54-441f-9ecb-4120ebf444a3",
   "metadata": {},
   "outputs": [
    {
     "data": {
      "text/html": [
       "<style>#sk-container-id-2 {color: black;}#sk-container-id-2 pre{padding: 0;}#sk-container-id-2 div.sk-toggleable {background-color: white;}#sk-container-id-2 label.sk-toggleable__label {cursor: pointer;display: block;width: 100%;margin-bottom: 0;padding: 0.3em;box-sizing: border-box;text-align: center;}#sk-container-id-2 label.sk-toggleable__label-arrow:before {content: \"▸\";float: left;margin-right: 0.25em;color: #696969;}#sk-container-id-2 label.sk-toggleable__label-arrow:hover:before {color: black;}#sk-container-id-2 div.sk-estimator:hover label.sk-toggleable__label-arrow:before {color: black;}#sk-container-id-2 div.sk-toggleable__content {max-height: 0;max-width: 0;overflow: hidden;text-align: left;background-color: #f0f8ff;}#sk-container-id-2 div.sk-toggleable__content pre {margin: 0.2em;color: black;border-radius: 0.25em;background-color: #f0f8ff;}#sk-container-id-2 input.sk-toggleable__control:checked~div.sk-toggleable__content {max-height: 200px;max-width: 100%;overflow: auto;}#sk-container-id-2 input.sk-toggleable__control:checked~label.sk-toggleable__label-arrow:before {content: \"▾\";}#sk-container-id-2 div.sk-estimator input.sk-toggleable__control:checked~label.sk-toggleable__label {background-color: #d4ebff;}#sk-container-id-2 div.sk-label input.sk-toggleable__control:checked~label.sk-toggleable__label {background-color: #d4ebff;}#sk-container-id-2 input.sk-hidden--visually {border: 0;clip: rect(1px 1px 1px 1px);clip: rect(1px, 1px, 1px, 1px);height: 1px;margin: -1px;overflow: hidden;padding: 0;position: absolute;width: 1px;}#sk-container-id-2 div.sk-estimator {font-family: monospace;background-color: #f0f8ff;border: 1px dotted black;border-radius: 0.25em;box-sizing: border-box;margin-bottom: 0.5em;}#sk-container-id-2 div.sk-estimator:hover {background-color: #d4ebff;}#sk-container-id-2 div.sk-parallel-item::after {content: \"\";width: 100%;border-bottom: 1px solid gray;flex-grow: 1;}#sk-container-id-2 div.sk-label:hover label.sk-toggleable__label {background-color: #d4ebff;}#sk-container-id-2 div.sk-serial::before {content: \"\";position: absolute;border-left: 1px solid gray;box-sizing: border-box;top: 0;bottom: 0;left: 50%;z-index: 0;}#sk-container-id-2 div.sk-serial {display: flex;flex-direction: column;align-items: center;background-color: white;padding-right: 0.2em;padding-left: 0.2em;position: relative;}#sk-container-id-2 div.sk-item {position: relative;z-index: 1;}#sk-container-id-2 div.sk-parallel {display: flex;align-items: stretch;justify-content: center;background-color: white;position: relative;}#sk-container-id-2 div.sk-item::before, #sk-container-id-2 div.sk-parallel-item::before {content: \"\";position: absolute;border-left: 1px solid gray;box-sizing: border-box;top: 0;bottom: 0;left: 50%;z-index: -1;}#sk-container-id-2 div.sk-parallel-item {display: flex;flex-direction: column;z-index: 1;position: relative;background-color: white;}#sk-container-id-2 div.sk-parallel-item:first-child::after {align-self: flex-end;width: 50%;}#sk-container-id-2 div.sk-parallel-item:last-child::after {align-self: flex-start;width: 50%;}#sk-container-id-2 div.sk-parallel-item:only-child::after {width: 0;}#sk-container-id-2 div.sk-dashed-wrapped {border: 1px dashed gray;margin: 0 0.4em 0.5em 0.4em;box-sizing: border-box;padding-bottom: 0.4em;background-color: white;}#sk-container-id-2 div.sk-label label {font-family: monospace;font-weight: bold;display: inline-block;line-height: 1.2em;}#sk-container-id-2 div.sk-label-container {text-align: center;}#sk-container-id-2 div.sk-container {/* jupyter's `normalize.less` sets `[hidden] { display: none; }` but bootstrap.min.css set `[hidden] { display: none !important; }` so we also need the `!important` here to be able to override the default hidden behavior on the sphinx rendered scikit-learn.org. See: https://github.com/scikit-learn/scikit-learn/issues/21755 */display: inline-block !important;position: relative;}#sk-container-id-2 div.sk-text-repr-fallback {display: none;}</style><div id=\"sk-container-id-2\" class=\"sk-top-container\"><div class=\"sk-text-repr-fallback\"><pre>KNeighborsClassifier(metric=&#x27;euclidean&#x27;, n_neighbors=7)</pre><b>In a Jupyter environment, please rerun this cell to show the HTML representation or trust the notebook. <br />On GitHub, the HTML representation is unable to render, please try loading this page with nbviewer.org.</b></div><div class=\"sk-container\" hidden><div class=\"sk-item\"><div class=\"sk-estimator sk-toggleable\"><input class=\"sk-toggleable__control sk-hidden--visually\" id=\"sk-estimator-id-2\" type=\"checkbox\" checked><label for=\"sk-estimator-id-2\" class=\"sk-toggleable__label sk-toggleable__label-arrow\">KNeighborsClassifier</label><div class=\"sk-toggleable__content\"><pre>KNeighborsClassifier(metric=&#x27;euclidean&#x27;, n_neighbors=7)</pre></div></div></div></div></div>"
      ],
      "text/plain": [
       "KNeighborsClassifier(metric='euclidean', n_neighbors=7)"
      ]
     },
     "execution_count": 52,
     "metadata": {},
     "output_type": "execute_result"
    }
   ],
   "source": [
    "#predicting using the KNeighbors_Classifier\n",
    "model_KNN = KNeighborsClassifier(n_neighbors=7, metric=\"euclidean\")\n",
    "\n",
    "#fit the model on the data and predict the values\n",
    "model_KNN.fit(X_train_scale,y_train)\n",
    "\n",
    "# import sklearn (run this code to get all distance metrics )\n",
    "# sklearn.neighbors.VALID_METRICS['brute']"
   ]
  },
  {
   "cell_type": "markdown",
   "id": "19817a05-012a-4b7e-9134-d3431e744878",
   "metadata": {},
   "source": [
    "## Test data Eval"
   ]
  },
  {
   "cell_type": "code",
   "execution_count": 53,
   "id": "7b637607-2b33-49a2-a873-c2fd69e62fb2",
   "metadata": {},
   "outputs": [
    {
     "name": "stdout",
     "output_type": "stream",
     "text": [
      "---------Confusion Matrix------------\n",
      "[[11  3]\n",
      " [ 0  7]]\n",
      "\n",
      "---------Accuracy Score------------\n",
      "0.8571428571428571\n",
      "\n",
      "---------Classification Report------------\n",
      "              precision    recall  f1-score   support\n",
      "\n",
      "           0       1.00      0.79      0.88        14\n",
      "           1       0.70      1.00      0.82         7\n",
      "\n",
      "    accuracy                           0.86        21\n",
      "   macro avg       0.85      0.89      0.85        21\n",
      "weighted avg       0.90      0.86      0.86        21\n",
      "\n"
     ]
    }
   ],
   "source": [
    "#predict using the model\n",
    "y_pred= model_KNN.predict(X_test_scale)\n",
    "\n",
    "print(\"---------Confusion Matrix------------\")\n",
    "print(confusion_matrix(y_test, y_pred))\n",
    "print()\n",
    "print(\"---------Accuracy Score------------\")\n",
    "print(accuracy_score(y_test,y_pred))\n",
    "print()\n",
    "print(\"---------Classification Report------------\")\n",
    "print(classification_report(y_test,y_pred))"
   ]
  },
  {
   "cell_type": "markdown",
   "id": "827c0c6d-5da3-4855-99d5-864eb6c7cbcb",
   "metadata": {},
   "source": [
    "## Training data Eval"
   ]
  },
  {
   "cell_type": "code",
   "execution_count": 55,
   "id": "55457a2a-4a91-41bb-bc3f-7f0ab0affd2f",
   "metadata": {},
   "outputs": [
    {
     "name": "stdout",
     "output_type": "stream",
     "text": [
      "---------Confusion Matrix------------\n",
      "[[458  77]\n",
      " [104 231]]\n",
      "\n",
      "---------Accuracy Score------------\n",
      "0.7919540229885057\n",
      "\n",
      "---------Classification Report------------\n",
      "              precision    recall  f1-score   support\n",
      "\n",
      "           0       0.81      0.86      0.84       535\n",
      "           1       0.75      0.69      0.72       335\n",
      "\n",
      "    accuracy                           0.79       870\n",
      "   macro avg       0.78      0.77      0.78       870\n",
      "weighted avg       0.79      0.79      0.79       870\n",
      "\n"
     ]
    }
   ],
   "source": [
    "from sklearn.linear_model import LogisticRegression\n",
    "\n",
    "# Instantiate a logistic regression classifier\n",
    "classifier = LogisticRegression()\n",
    "\n",
    "# Train the classifier on the scaled training data\n",
    "classifier.fit(X_train_scale, y_train)\n",
    "\n",
    "# Make predictions on the scaled training data\n",
    "y_pred = classifier.predict(X_train_scale)\n",
    "\n",
    "# Now you can print the confusion matrix, accuracy score, and classification report\n",
    "print(\"---------Confusion Matrix------------\")\n",
    "print(confusion_matrix(y_train, y_pred))\n",
    "print()\n",
    "print(\"---------Accuracy Score------------\")\n",
    "print(accuracy_score(y_train, y_pred))\n",
    "print()\n",
    "print(\"---------Classification Report------------\")\n",
    "print(classification_report(y_train, y_pred))\n"
   ]
  },
  {
   "cell_type": "markdown",
   "id": "f37f8d1b-1fb4-460d-9b96-69dd9a536cc0",
   "metadata": {},
   "source": [
    "## Try KNN with Diff Numbers"
   ]
  },
  {
   "cell_type": "code",
   "execution_count": 56,
   "id": "0050805b-73fa-473f-87f9-137686bf901a",
   "metadata": {},
   "outputs": [
    {
     "name": "stdout",
     "output_type": "stream",
     "text": [
      "Accuracy is: 0.81 for K-Value: 1\n",
      "Accuracy is: 0.76 for K-Value: 2\n",
      "Accuracy is: 0.76 for K-Value: 3\n",
      "Accuracy is: 0.76 for K-Value: 4\n",
      "Accuracy is: 0.81 for K-Value: 5\n",
      "Accuracy is: 0.86 for K-Value: 6\n",
      "Accuracy is: 0.86 for K-Value: 7\n",
      "Accuracy is: 0.86 for K-Value: 8\n",
      "Accuracy is: 0.86 for K-Value: 9\n",
      "Accuracy is: 0.86 for K-Value: 10\n",
      "Accuracy is: 0.86 for K-Value: 11\n",
      "Accuracy is: 0.9 for K-Value: 12\n",
      "Accuracy is: 0.9 for K-Value: 13\n",
      "Accuracy is: 0.86 for K-Value: 14\n",
      "Accuracy is: 0.86 for K-Value: 15\n",
      "Accuracy is: 0.81 for K-Value: 16\n",
      "Accuracy is: 0.86 for K-Value: 17\n",
      "Accuracy is: 0.81 for K-Value: 18\n",
      "Accuracy is: 0.81 for K-Value: 19\n",
      "Accuracy is: 0.81 for K-Value: 20\n",
      "Accuracy is: 0.81 for K-Value: 21\n",
      "Accuracy is: 0.9 for K-Value: 22\n",
      "Accuracy is: 0.9 for K-Value: 23\n",
      "Accuracy is: 0.86 for K-Value: 24\n",
      "Accuracy is: 0.86 for K-Value: 25\n",
      "Accuracy is: 0.86 for K-Value: 26\n",
      "Accuracy is: 0.81 for K-Value: 27\n",
      "Accuracy is: 0.86 for K-Value: 28\n",
      "Accuracy is: 0.86 for K-Value: 29\n",
      "Accuracy is: 0.86 for K-Value: 30\n",
      "Accuracy is: 0.81 for K-Value: 31\n",
      "Accuracy is: 0.86 for K-Value: 32\n",
      "Accuracy is: 0.86 for K-Value: 33\n",
      "Accuracy is: 0.86 for K-Value: 34\n",
      "Accuracy is: 0.81 for K-Value: 35\n",
      "Accuracy is: 0.81 for K-Value: 36\n",
      "Accuracy is: 0.81 for K-Value: 37\n",
      "Accuracy is: 0.81 for K-Value: 38\n",
      "Accuracy is: 0.81 for K-Value: 39\n",
      "Accuracy is: 0.81 for K-Value: 40\n",
      "Accuracy is: 0.81 for K-Value: 41\n",
      "Accuracy is: 0.76 for K-Value: 42\n",
      "Accuracy is: 0.81 for K-Value: 43\n",
      "Accuracy is: 0.76 for K-Value: 44\n",
      "Accuracy is: 0.76 for K-Value: 45\n",
      "Accuracy is: 0.81 for K-Value: 46\n",
      "Accuracy is: 0.76 for K-Value: 47\n",
      "Accuracy is: 0.81 for K-Value: 48\n",
      "Accuracy is: 0.76 for K-Value: 49\n",
      "Accuracy is: 0.76 for K-Value: 50\n",
      "Accuracy is: 0.81 for K-Value: 51\n",
      "Accuracy is: 0.81 for K-Value: 52\n",
      "Accuracy is: 0.81 for K-Value: 53\n",
      "Accuracy is: 0.81 for K-Value: 54\n",
      "Accuracy is: 0.81 for K-Value: 55\n",
      "Accuracy is: 0.81 for K-Value: 56\n",
      "Accuracy is: 0.81 for K-Value: 57\n",
      "Accuracy is: 0.86 for K-Value: 58\n",
      "Accuracy is: 0.86 for K-Value: 59\n",
      "Accuracy is: 0.81 for K-Value: 60\n",
      "Accuracy is: 0.86 for K-Value: 61\n",
      "Accuracy is: 0.86 for K-Value: 62\n",
      "Accuracy is: 0.86 for K-Value: 63\n",
      "Accuracy is: 0.81 for K-Value: 64\n",
      "Accuracy is: 0.86 for K-Value: 65\n",
      "Accuracy is: 0.81 for K-Value: 66\n",
      "Accuracy is: 0.81 for K-Value: 67\n",
      "Accuracy is: 0.81 for K-Value: 68\n",
      "Accuracy is: 0.81 for K-Value: 69\n",
      "Accuracy is: 0.81 for K-Value: 70\n",
      "Accuracy is: 0.81 for K-Value: 71\n",
      "Accuracy is: 0.81 for K-Value: 72\n",
      "Accuracy is: 0.86 for K-Value: 73\n",
      "Accuracy is: 0.86 for K-Value: 74\n",
      "Accuracy is: 0.86 for K-Value: 75\n",
      "Accuracy is: 0.86 for K-Value: 76\n",
      "Accuracy is: 0.86 for K-Value: 77\n",
      "Accuracy is: 0.86 for K-Value: 78\n",
      "Accuracy is: 0.86 for K-Value: 79\n",
      "Accuracy is: 0.86 for K-Value: 80\n",
      "Accuracy is: 0.86 for K-Value: 81\n",
      "Accuracy is: 0.86 for K-Value: 82\n",
      "Accuracy is: 0.86 for K-Value: 83\n",
      "Accuracy is: 0.86 for K-Value: 84\n",
      "Accuracy is: 0.81 for K-Value: 85\n",
      "Accuracy is: 0.86 for K-Value: 86\n",
      "Accuracy is: 0.81 for K-Value: 87\n",
      "Accuracy is: 0.81 for K-Value: 88\n",
      "Accuracy is: 0.81 for K-Value: 89\n",
      "Accuracy is: 0.81 for K-Value: 90\n",
      "Accuracy is: 0.81 for K-Value: 91\n",
      "Accuracy is: 0.86 for K-Value: 92\n",
      "Accuracy is: 0.81 for K-Value: 93\n",
      "Accuracy is: 0.86 for K-Value: 94\n",
      "Accuracy is: 0.86 for K-Value: 95\n",
      "Accuracy is: 0.86 for K-Value: 96\n",
      "Accuracy is: 0.81 for K-Value: 97\n",
      "Accuracy is: 0.81 for K-Value: 98\n",
      "Accuracy is: 0.81 for K-Value: 99\n",
      "Accuracy is: 0.86 for K-Value: 100\n"
     ]
    }
   ],
   "source": [
    "acc_dict = dict()\n",
    "\n",
    "for K in range(1, 101):\n",
    "    \n",
    "    # create object with k value\n",
    "    model_KNN = KNeighborsClassifier(K, metric='euclidean')\n",
    "    \n",
    "    # model fit \n",
    "    model_KNN.fit(X_train_scale, y_train) \n",
    "    \n",
    "    # model prediction\n",
    "    y_pred = model_KNN.predict(X_test_scale)\n",
    "    \n",
    "    acc_score= round(accuracy_score(y_test, y_pred),2 )\n",
    "    \n",
    "    # print accuracy score\n",
    "    print(\"Accuracy is: {} for K-Value: {}\".format(acc_score,K))\n",
    "    acc_dict[K] = acc_score"
   ]
  },
  {
   "cell_type": "code",
   "execution_count": 57,
   "id": "efc2c41b-2a22-43a1-8eed-20681b3af685",
   "metadata": {},
   "outputs": [
    {
     "name": "stdout",
     "output_type": "stream",
     "text": [
      "12 : 0.9\n",
      "13 : 0.9\n",
      "22 : 0.9\n",
      "23 : 0.9\n"
     ]
    }
   ],
   "source": [
    "for k in acc_dict:\n",
    "    if acc_dict[k] == max(acc_dict.values()):\n",
    "        print(k,\":\", acc_dict[k])"
   ]
  },
  {
   "cell_type": "code",
   "execution_count": 58,
   "id": "08e760b1-5446-4f66-9d79-f1798c3ae9c2",
   "metadata": {},
   "outputs": [],
   "source": [
    "model = KNeighborsClassifier(n_neighbors=23, metric=\"euclidean\", n_jobs=-1)\n",
    "\n",
    "# model fit \n",
    "model.fit(X_train_scale, y_train) \n",
    "\n",
    "# model prediction\n",
    "y_pred = model.predict(X_test_scale)"
   ]
  },
  {
   "cell_type": "code",
   "execution_count": 59,
   "id": "e36ff439-e67f-4335-baa3-0fd9d3fcc90d",
   "metadata": {},
   "outputs": [
    {
     "name": "stdout",
     "output_type": "stream",
     "text": [
      "---------Confusion Matrix------------\n",
      "[[13  1]\n",
      " [ 1  6]]\n",
      "\n",
      "---------Accuracy Score------------\n",
      "0.9047619047619048\n",
      "\n",
      "---------Classification Report------------\n",
      "              precision    recall  f1-score   support\n",
      "\n",
      "           0       0.93      0.93      0.93        14\n",
      "           1       0.86      0.86      0.86         7\n",
      "\n",
      "    accuracy                           0.90        21\n",
      "   macro avg       0.89      0.89      0.89        21\n",
      "weighted avg       0.90      0.90      0.90        21\n",
      "\n"
     ]
    }
   ],
   "source": [
    "print(\"---------Confusion Matrix------------\")\n",
    "print(confusion_matrix(y_test, y_pred))\n",
    "print()\n",
    "print(\"---------Accuracy Score------------\")\n",
    "print(accuracy_score(y_test,y_pred))\n",
    "print()\n",
    "print(\"---------Classification Report------------\")\n",
    "print(classification_report(y_test,y_pred))"
   ]
  },
  {
   "cell_type": "markdown",
   "id": "931ba676-5374-42ed-9eb2-bd064c8feabf",
   "metadata": {},
   "source": [
    "# KNN Regression"
   ]
  },
  {
   "cell_type": "code",
   "execution_count": 60,
   "id": "31cc6221-1458-45ef-8764-08009b98ffa0",
   "metadata": {},
   "outputs": [],
   "source": [
    "df = pd.read_csv(r\"C:\\Users\\AK\\Desktop\\file\\Advertising.csv\", index_col=0)"
   ]
  },
  {
   "cell_type": "code",
   "execution_count": 61,
   "id": "1b2ec5ea-1d53-43d5-966c-f89050bab219",
   "metadata": {},
   "outputs": [
    {
     "data": {
      "text/html": [
       "<div>\n",
       "<style scoped>\n",
       "    .dataframe tbody tr th:only-of-type {\n",
       "        vertical-align: middle;\n",
       "    }\n",
       "\n",
       "    .dataframe tbody tr th {\n",
       "        vertical-align: top;\n",
       "    }\n",
       "\n",
       "    .dataframe thead th {\n",
       "        text-align: right;\n",
       "    }\n",
       "</style>\n",
       "<table border=\"1\" class=\"dataframe\">\n",
       "  <thead>\n",
       "    <tr style=\"text-align: right;\">\n",
       "      <th></th>\n",
       "      <th>TV</th>\n",
       "      <th>radio</th>\n",
       "      <th>newspaper</th>\n",
       "      <th>sales</th>\n",
       "    </tr>\n",
       "  </thead>\n",
       "  <tbody>\n",
       "    <tr>\n",
       "      <th>1</th>\n",
       "      <td>230.1</td>\n",
       "      <td>37.8</td>\n",
       "      <td>69.2</td>\n",
       "      <td>22.1</td>\n",
       "    </tr>\n",
       "    <tr>\n",
       "      <th>2</th>\n",
       "      <td>44.5</td>\n",
       "      <td>39.3</td>\n",
       "      <td>45.1</td>\n",
       "      <td>10.4</td>\n",
       "    </tr>\n",
       "    <tr>\n",
       "      <th>3</th>\n",
       "      <td>17.2</td>\n",
       "      <td>45.9</td>\n",
       "      <td>69.3</td>\n",
       "      <td>9.3</td>\n",
       "    </tr>\n",
       "    <tr>\n",
       "      <th>4</th>\n",
       "      <td>151.5</td>\n",
       "      <td>41.3</td>\n",
       "      <td>58.5</td>\n",
       "      <td>18.5</td>\n",
       "    </tr>\n",
       "    <tr>\n",
       "      <th>5</th>\n",
       "      <td>180.8</td>\n",
       "      <td>10.8</td>\n",
       "      <td>58.4</td>\n",
       "      <td>12.9</td>\n",
       "    </tr>\n",
       "  </tbody>\n",
       "</table>\n",
       "</div>"
      ],
      "text/plain": [
       "      TV  radio  newspaper  sales\n",
       "1  230.1   37.8       69.2   22.1\n",
       "2   44.5   39.3       45.1   10.4\n",
       "3   17.2   45.9       69.3    9.3\n",
       "4  151.5   41.3       58.5   18.5\n",
       "5  180.8   10.8       58.4   12.9"
      ]
     },
     "execution_count": 61,
     "metadata": {},
     "output_type": "execute_result"
    }
   ],
   "source": [
    "df.head()"
   ]
  },
  {
   "cell_type": "code",
   "execution_count": 63,
   "id": "71d116c4-2ff0-4630-aa65-f71729cafc68",
   "metadata": {},
   "outputs": [
    {
     "data": {
      "text/plain": [
       "TV           0\n",
       "radio        0\n",
       "newspaper    0\n",
       "sales        0\n",
       "dtype: int64"
      ]
     },
     "execution_count": 63,
     "metadata": {},
     "output_type": "execute_result"
    }
   ],
   "source": [
    "df.isnull().sum()"
   ]
  },
  {
   "cell_type": "code",
   "execution_count": 64,
   "id": "99cd833d-cf1c-4ba6-9414-70bf33dbe673",
   "metadata": {},
   "outputs": [
    {
     "data": {
      "text/plain": [
       "Index(['TV', 'radio', 'newspaper', 'sales'], dtype='object')"
      ]
     },
     "execution_count": 64,
     "metadata": {},
     "output_type": "execute_result"
    }
   ],
   "source": [
    "df.columns"
   ]
  },
  {
   "cell_type": "code",
   "execution_count": 65,
   "id": "ee468b71-dce7-481e-b415-c38433cc6f12",
   "metadata": {},
   "outputs": [],
   "source": [
    "X  = df[['TV', 'radio', 'newspaper']]\n",
    "y = df['sales']"
   ]
  },
  {
   "cell_type": "code",
   "execution_count": 66,
   "id": "6e6ffd05-0a7c-415d-a3f9-592043d3bb0e",
   "metadata": {},
   "outputs": [],
   "source": [
    "from sklearn.model_selection import train_test_split\n",
    "#Split the data into test and train\n",
    "X_train, X_test, y_train, y_test = train_test_split(X, y, test_size=0.3,\n",
    "                                                    random_state=10)  "
   ]
  },
  {
   "cell_type": "code",
   "execution_count": 67,
   "id": "d87deddb-a3d9-430c-8023-723fb7b9bbaf",
   "metadata": {},
   "outputs": [],
   "source": [
    "#predicting using the KNeighbors_Classifier\n",
    "from sklearn.neighbors import KNeighborsRegressor\n",
    "model_KNN = KNeighborsRegressor(n_neighbors=3, metric=\"euclidean\")\n",
    "#fit the model on the data and predict the values\n",
    "model_KNN.fit(X_train,y_train)\n",
    "y_pred=model_KNN.predict(X_test)"
   ]
  },
  {
   "cell_type": "code",
   "execution_count": 68,
   "id": "75c3c4d8-9266-44b6-8ea6-3c9277ce61d1",
   "metadata": {},
   "outputs": [
    {
     "name": "stdout",
     "output_type": "stream",
     "text": [
      "0.925958613863326\n",
      "2.778240740740741\n"
     ]
    }
   ],
   "source": [
    "from sklearn.metrics import r2_score, mean_squared_error\n",
    "r2 = r2_score(y_test,y_pred)\n",
    "mse = mean_squared_error(y_test,y_pred)\n",
    "print(r2)\n",
    "print(mse)"
   ]
  },
  {
   "cell_type": "code",
   "execution_count": 69,
   "id": "0809d4ff-87f2-4451-b8ed-ffdfcd7682a6",
   "metadata": {},
   "outputs": [
    {
     "data": {
      "text/plain": [
       "(1.6, 27.0)"
      ]
     },
     "execution_count": 69,
     "metadata": {},
     "output_type": "execute_result"
    }
   ],
   "source": [
    "min(y_test), max(y_test)"
   ]
  },
  {
   "cell_type": "code",
   "execution_count": 70,
   "id": "49eaad0b-14d0-4a0d-92a5-8bc5743bd5f9",
   "metadata": {},
   "outputs": [
    {
     "name": "stdout",
     "output_type": "stream",
     "text": [
      "Accuracy is: 0.9182264031854402 for K-Value: 2\n",
      "Accuracy is: 0.925958613863326 for K-Value: 3\n",
      "Accuracy is: 0.932788657210048 for K-Value: 4\n",
      "Accuracy is: 0.9149539491202795 for K-Value: 5\n",
      "Accuracy is: 0.8929665815850817 for K-Value: 6\n",
      "Accuracy is: 0.8744848671701098 for K-Value: 7\n",
      "Accuracy is: 0.8654478098543175 for K-Value: 8\n",
      "Accuracy is: 0.8492939672848692 for K-Value: 9\n",
      "Accuracy is: 0.8402713283054284 for K-Value: 10\n",
      "Accuracy is: 0.8371675782423147 for K-Value: 11\n",
      "Accuracy is: 0.8373829505130865 for K-Value: 12\n",
      "Accuracy is: 0.8276548833014651 for K-Value: 13\n",
      "Accuracy is: 0.8283131539137829 for K-Value: 14\n",
      "Accuracy is: 0.8161422263836416 for K-Value: 15\n",
      "Accuracy is: 0.8004112554208694 for K-Value: 16\n",
      "Accuracy is: 0.7942012190658417 for K-Value: 17\n",
      "Accuracy is: 0.7802634154775825 for K-Value: 18\n",
      "Accuracy is: 0.7676471516517576 for K-Value: 19\n",
      "Accuracy is: 0.7573316851506093 for K-Value: 20\n",
      "Accuracy is: 0.7503499480255902 for K-Value: 21\n",
      "Accuracy is: 0.7463504736257043 for K-Value: 22\n",
      "Accuracy is: 0.7323403978622665 for K-Value: 23\n",
      "Accuracy is: 0.7286293823438204 for K-Value: 24\n",
      "Accuracy is: 0.7232814086188022 for K-Value: 25\n",
      "Accuracy is: 0.7156764624658211 for K-Value: 26\n",
      "Accuracy is: 0.7083731428727634 for K-Value: 27\n",
      "Accuracy is: 0.7056139217692052 for K-Value: 28\n",
      "Accuracy is: 0.6971706745116943 for K-Value: 29\n",
      "Accuracy is: 0.6885434742863679 for K-Value: 30\n"
     ]
    }
   ],
   "source": [
    "acc_dict = dict()\n",
    "for K in range(2, 31):\n",
    "    \n",
    "    # create object with k value\n",
    "    model_KNN = KNeighborsRegressor(n_neighbors=K, metric=\"euclidean\")\n",
    "    \n",
    "    # model fit \n",
    "    model_KNN.fit(X_train, y_train)  \n",
    "    # model prediction\n",
    "    y_pred = model_KNN.predict(X_test)\n",
    "    r2 = r2_score(y_test,y_pred)   \n",
    "    # print accuracy score\n",
    "    print(\"Accuracy is: {} for K-Value: {}\".format(r2,K))\n",
    "    acc_dict[K] =r2"
   ]
  },
  {
   "cell_type": "code",
   "execution_count": 71,
   "id": "65b1b692-839a-461d-a6cd-9cf5a6ef9f5c",
   "metadata": {},
   "outputs": [
    {
     "name": "stdout",
     "output_type": "stream",
     "text": [
      "4 : 0.932788657210048\n"
     ]
    }
   ],
   "source": [
    "for k in acc_dict:\n",
    "    if acc_dict[k] == max(acc_dict.values()):\n",
    "        print(k,\":\", acc_dict[k])"
   ]
  },
  {
   "cell_type": "code",
   "execution_count": 77,
   "id": "f49ed437-b478-4af4-af6c-55b0471c5fb5",
   "metadata": {},
   "outputs": [],
   "source": [
    "from sklearn.neighbors import KNeighborsRegressor\n",
    "\n",
    "# Instantiate the K-nearest neighbors regressor with the best value of k\n",
    "final_model = KNeighborsRegressor(n_neighbors=4, metric=\"euclidean\")\n",
    "\n",
    "# Train the final model on the entire training dataset\n",
    "final_model.fit(X_train, y_train)\n",
    "\n",
    "# Make predictions on the testing dataset\n",
    "y_pred = final_model.predict(X_test)\n"
   ]
  },
  {
   "cell_type": "code",
   "execution_count": 79,
   "id": "3073c134-e29e-486e-a4f6-d6c8c243ace9",
   "metadata": {},
   "outputs": [
    {
     "name": "stdout",
     "output_type": "stream",
     "text": [
      "Mean Squared Error (MSE): 2.521958333333335\n",
      "Root Mean Squared Error (RMSE): 1.5880674838725635\n",
      "R-squared score: 0.932788657210048\n"
     ]
    }
   ],
   "source": [
    "from sklearn.metrics import mean_squared_error, r2_score\n",
    "\n",
    "# Calculate evaluation metrics\n",
    "mse = mean_squared_error(y_test, y_pred)\n",
    "rmse = np.sqrt(mse)\n",
    "r2 = r2_score(y_test, y_pred)\n",
    "\n",
    "print(\"Mean Squared Error (MSE):\", mse)\n",
    "print(\"Root Mean Squared Error (RMSE):\", rmse)\n",
    "print(\"R-squared score:\", r2)"
   ]
  },
  {
   "cell_type": "code",
   "execution_count": null,
   "id": "a1cc9bdc-43ce-463b-b0eb-d3b1eeb80703",
   "metadata": {},
   "outputs": [],
   "source": []
  }
 ],
 "metadata": {
  "kernelspec": {
   "display_name": "Python 3 (ipykernel)",
   "language": "python",
   "name": "python3"
  },
  "language_info": {
   "codemirror_mode": {
    "name": "ipython",
    "version": 3
   },
   "file_extension": ".py",
   "mimetype": "text/x-python",
   "name": "python",
   "nbconvert_exporter": "python",
   "pygments_lexer": "ipython3",
   "version": "3.11.5"
  }
 },
 "nbformat": 4,
 "nbformat_minor": 5
}
